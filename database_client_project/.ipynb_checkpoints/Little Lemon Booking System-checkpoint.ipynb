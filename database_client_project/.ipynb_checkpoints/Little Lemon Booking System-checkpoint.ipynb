{
 "cells": [
  {
   "cell_type": "code",
   "execution_count": 21,
   "id": "4fc7bbdf",
   "metadata": {},
   "outputs": [
    {
     "name": "stdout",
     "output_type": "stream",
     "text": [
      "Database connection successful\n"
     ]
    }
   ],
   "source": [
    "#Install MySQL Connector python\n",
    "#!pip install mysql-connector-python\n",
    "\n",
    "#Import Connector\n",
    "import mysql.connector as connector\n",
    "\n",
    "#Connect to the database\n",
    "connection = connector.connect(user = \"capstone\", password = \"littlelemon456!\", db = \"littlelemondb\")\n",
    "print(\"Database connection successful\")\n",
    "\n",
    "#Create cursor instance\n",
    "cursor = connection.cursor(buffered=True)"
   ]
  },
  {
   "cell_type": "code",
   "execution_count": 22,
   "id": "78b71baf",
   "metadata": {},
   "outputs": [
    {
     "name": "stdout",
     "output_type": "stream",
     "text": [
      "('bookings',)\n",
      "('customer',)\n",
      "('delivery status',)\n",
      "('menu',)\n",
      "('menuitems',)\n",
      "('orders',)\n",
      "('staff',)\n"
     ]
    }
   ],
   "source": [
    "#Show table query\n",
    "show_tables_query = \"SHOW TABLES\"\n",
    "#Execute query\n",
    "cursor.execute(show_tables_query)\n",
    "\n",
    "#Print tables in the Database\n",
    "for table in cursor:\n",
    "    print(table)"
   ]
  },
  {
   "cell_type": "code",
   "execution_count": 26,
   "id": "08804401",
   "metadata": {},
   "outputs": [
    {
     "name": "stdout",
     "output_type": "stream",
     "text": [
      "('FullName', 'Address', 'PhoneNumber', 'BillAmount')\n",
      "('Shittu Loveth', '49 Ahmadu Bello way, Lagos', 138540, Decimal('120'))\n",
      "('Abe Josh', '3a Mcafee drive New York', 3409456, Decimal('75'))\n"
     ]
    }
   ],
   "source": [
    "#Perform Join Table\n",
    "\n",
    "join_table_query = '''SELECT customer.CustomerName as FullName, \n",
    "customer.CustomerAddress as Address, \n",
    "customer.CustomerNumber as PhoneNumber, \n",
    "orders.Cost as BillAmount From customer\n",
    "inner join orders on customer.CustomerID = orders.CustomerID\n",
    "WHERE orders.Cost > 60'''\n",
    "\n",
    "#Execute query\n",
    "cursor.execute(join_table_query)\n",
    "\n",
    "#print result of join query\n",
    "col = cursor.column_names\n",
    "print(col)\n",
    "#result = cursor.fetchall()\n",
    "for result in cursor:\n",
    "    print(result)"
   ]
  },
  {
   "cell_type": "code",
   "execution_count": null,
   "id": "231718bf",
   "metadata": {},
   "outputs": [],
   "source": []
  }
 ],
 "metadata": {
  "kernelspec": {
   "display_name": "Python 3 (ipykernel)",
   "language": "python",
   "name": "python3"
  },
  "language_info": {
   "codemirror_mode": {
    "name": "ipython",
    "version": 3
   },
   "file_extension": ".py",
   "mimetype": "text/x-python",
   "name": "python",
   "nbconvert_exporter": "python",
   "pygments_lexer": "ipython3",
   "version": "3.11.2"
  }
 },
 "nbformat": 4,
 "nbformat_minor": 5
}
